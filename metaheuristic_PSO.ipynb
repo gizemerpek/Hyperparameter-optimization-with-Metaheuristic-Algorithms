{
  "nbformat": 4,
  "nbformat_minor": 0,
  "metadata": {
    "colab": {
      "provenance": []
    },
    "kernelspec": {
      "name": "python3",
      "display_name": "Python 3"
    },
    "language_info": {
      "name": "python"
    }
  },
  "cells": [
    {
      "cell_type": "code",
      "execution_count": 1,
      "metadata": {
        "colab": {
          "base_uri": "https://localhost:8080/"
        },
        "id": "KMODVVNYl0NF",
        "outputId": "f67b62cb-2699-4b99-e201-a55390657b54"
      },
      "outputs": [
        {
          "output_type": "stream",
          "name": "stdout",
          "text": [
            "   row ID                                              Tweet     Etiket  \\\n",
            "0  Row589  ya orospu cocuklari hepiniz niye ayni anda yaz...     nefret   \n",
            "1  Row593  Ciddiye alan tüm dünyanın beynini sileyim.. \\n...  saldırgan   \n",
            "2  Row600  Kayıtlı İstihdama geçiş programına göre (?)\\nŞ...    hiçbiri   \n",
            "3  Row604  Hastaneye git Suriyeli. PTT ye git Suriyeli. P...     nefret   \n",
            "4  Row607               Cölesi bitmiş suriyeli gibiyim bugün    hiçbiri   \n",
            "\n",
            "  Alt Etiket   Etiket.1 Alt Etiket.1   Etiket.2 Alt Etiket.2 Etiket.3  \\\n",
            "0      etnik     nefret        etnik     nefret        etnik      NaN   \n",
            "1        NaN  saldırgan          NaN  saldırgan          NaN      NaN   \n",
            "2        NaN    hiçbiri          NaN    hiçbiri          NaN      NaN   \n",
            "3      etnik     nefret        etnik     nefret        etnik      NaN   \n",
            "4        NaN     nefret        etnik    hiçbiri          NaN  hiçbiri   \n",
            "\n",
            "  Alt Etiket.3  ...    User - Location User - Time Zone User - Statuses  \\\n",
            "0          NaN  ...            gökyüzü              NaN            9417   \n",
            "1          NaN  ...               İMKB              NaN            8747   \n",
            "2          NaN  ...              T. C.              NaN           27697   \n",
            "3          NaN  ...                NaN              NaN              15   \n",
            "4          NaN  ...  İstanbul, Türkiye              NaN             620   \n",
            "\n",
            "   User - Followers  User - Friends  User - Favourites  Unnamed: 35  RowID  \\\n",
            "0              2860            2543            40313.0          NaN    NaN   \n",
            "1               314              15             5537.0          NaN    NaN   \n",
            "2             12548            8941            84426.0          NaN    NaN   \n",
            "3                 9              16               83.0          NaN    NaN   \n",
            "4               488             273              362.0          NaN    NaN   \n",
            "\n",
            "   Unnamed: 22  Row ID  \n",
            "0          NaN     NaN  \n",
            "1          NaN     NaN  \n",
            "2          NaN     NaN  \n",
            "3          NaN     NaN  \n",
            "4          NaN     NaN  \n",
            "\n",
            "[5 rows x 39 columns]\n",
            "<class 'pandas.core.frame.DataFrame'>\n",
            "RangeIndex: 10224 entries, 0 to 10223\n",
            "Data columns (total 39 columns):\n",
            " #   Column                Non-Null Count  Dtype  \n",
            "---  ------                --------------  -----  \n",
            " 0   row ID                9959 non-null   object \n",
            " 1   Tweet                 10224 non-null  object \n",
            " 2   Etiket                10224 non-null  object \n",
            " 3   Alt Etiket            2336 non-null   object \n",
            " 4   Etiket.1              10224 non-null  object \n",
            " 5   Alt Etiket.1          2371 non-null   object \n",
            " 6   Etiket.2              10224 non-null  object \n",
            " 7   Alt Etiket.2          2312 non-null   object \n",
            " 8   Etiket.3              159 non-null    object \n",
            " 9   Alt Etiket.3          68 non-null     object \n",
            " 10  Tweet ID              10223 non-null  float64\n",
            " 11  Time                  10224 non-null  object \n",
            " 12  Favorited             10224 non-null  object \n",
            " 13  Retweeted             10224 non-null  int64  \n",
            " 14  Is Favourited         10224 non-null  int64  \n",
            " 15  Is Retweeted          10224 non-null  int64  \n",
            " 16  Is Retweet            10224 non-null  int64  \n",
            " 17  Retweet from          1 non-null      float64\n",
            " 18  Latitude              9 non-null      float64\n",
            " 19  Longitude             9 non-null      float64\n",
            " 20  Country               282 non-null    object \n",
            " 21  User                  10223 non-null  object \n",
            " 22  User - Profile image  122 non-null    object \n",
            " 23  User - Name           10222 non-null  object \n",
            " 24  User - ID             10195 non-null  object \n",
            " 25  User - Description    8393 non-null   object \n",
            " 26  User - URL            3046 non-null   object \n",
            " 27  User - Creation time  10103 non-null  object \n",
            " 28  User - Language       57 non-null     object \n",
            " 29  User - Location       5704 non-null   object \n",
            " 30  User - Time Zone      122 non-null    object \n",
            " 31  User - Statuses       10223 non-null  object \n",
            " 32  User - Followers      10224 non-null  object \n",
            " 33  User - Friends        10224 non-null  int64  \n",
            " 34  User - Favourites     10103 non-null  float64\n",
            " 35  Unnamed: 35           1 non-null      float64\n",
            " 36  RowID                 210 non-null    object \n",
            " 37  Unnamed: 22           0 non-null      float64\n",
            " 38  Row ID                55 non-null     object \n",
            "dtypes: float64(7), int64(5), object(27)\n",
            "memory usage: 3.0+ MB\n",
            "None\n",
            "Index(['row ID', 'Tweet', 'Etiket', 'Alt Etiket', 'Etiket.1', 'Alt Etiket.1',\n",
            "       'Etiket.2', 'Alt Etiket.2', 'Etiket.3', 'Alt Etiket.3', 'Tweet ID',\n",
            "       'Time', 'Favorited', 'Retweeted', 'Is Favourited', 'Is Retweeted',\n",
            "       'Is Retweet', 'Retweet from', 'Latitude', 'Longitude', 'Country',\n",
            "       'User', 'User - Profile image', 'User - Name', 'User - ID',\n",
            "       'User - Description', 'User - URL', 'User - Creation time',\n",
            "       'User - Language', 'User - Location', 'User - Time Zone',\n",
            "       'User - Statuses', 'User - Followers', 'User - Friends',\n",
            "       'User - Favourites', 'Unnamed: 35', 'RowID', 'Unnamed: 22', 'Row ID'],\n",
            "      dtype='object')\n"
          ]
        },
        {
          "output_type": "stream",
          "name": "stderr",
          "text": [
            "[nltk_data] Downloading package stopwords to /root/nltk_data...\n",
            "[nltk_data]   Unzipping corpora/stopwords.zip.\n"
          ]
        },
        {
          "output_type": "stream",
          "name": "stdout",
          "text": [
            "Boş Tweet sayısı: 0\n",
            "Boş Etiket sayısı: 0\n"
          ]
        },
        {
          "output_type": "stream",
          "name": "stderr",
          "text": [
            "[nltk_data] Downloading package stopwords to /root/nltk_data...\n",
            "[nltk_data]   Package stopwords is already up-to-date!\n"
          ]
        },
        {
          "output_type": "stream",
          "name": "stdout",
          "text": [
            "Eğitim verisi şekli: (8179, 5000)\n",
            "Test verisi şekli: (2045, 5000)\n",
            "TF-IDF örnek değerler: [0. 0. 0. ... 0. 0. 0.]\n"
          ]
        }
      ],
      "source": [
        "import pandas as pd\n",
        "\n",
        "# Excel dosyasının yolunu belirtin\n",
        "file_path = '/content/Türkçe Nefret Söylemi Veriseti.xlsx'\n",
        "\n",
        "# Excel dosyasını yükle\n",
        "xlsx = pd.ExcelFile(file_path)\n",
        "\n",
        "# Tüm sheet'leri listele\n",
        "sheet_names = xlsx.sheet_names\n",
        "\n",
        "# \"TOPLAM\" ve ilk sheet dışındaki sheet'leri seç\n",
        "sheets_to_merge = [sheet for sheet in sheet_names if sheet != \"TOPLAM\" and sheet != sheet_names[0]]\n",
        "\n",
        "# Seçilen sheet'leri birleştir\n",
        "merged_data = pd.concat([xlsx.parse(sheet,header=1) for sheet in sheets_to_merge], ignore_index=True)\n",
        "\n",
        "# Birleştirilen veriyi kaydetmek için bir CSV dosyası oluşturun (isteğe bağlı)\n",
        "#merged_data.to_csv('merged_sheets.csv', index=False)\n",
        "\n",
        "print(merged_data.head())  # Display the first few rows\n",
        "print(merged_data.info())  # Understand data types and null values\n",
        "print(merged_data.columns)\n",
        "\n",
        "merged_data['Tweet'] = merged_data['Tweet'].str.lower()\n",
        "merged_data['Tweet'] = merged_data['Tweet'].str.replace(r'[^\\w\\s]', '', regex=True)\n",
        "\n",
        "import nltk\n",
        "\n",
        "nltk.download('stopwords')\n",
        "\n",
        "from nltk.corpus import stopwords\n",
        "\n",
        "stop_words = set(stopwords.words('turkish'))\n",
        "merged_data['Tweet'] = merged_data['Tweet'].apply(\n",
        "    lambda x: ' '.join(word for word in x.split() if word not in stop_words)\n",
        ")\n",
        "\n",
        "\n",
        "from snowballstemmer import TurkishStemmer\n",
        "\n",
        "stemmer = TurkishStemmer()\n",
        "merged_data['Tweet'] = merged_data['Tweet'].apply(\n",
        "    lambda x: ' '.join(stemmer.stemWord(word) for word in x.split())\n",
        ")\n",
        "\n",
        "print(\"Boş Tweet sayısı:\", merged_data['Tweet'].isnull().sum())\n",
        "print(\"Boş Etiket sayısı:\", merged_data['Etiket'].isnull().sum())\n",
        "import pandas as pd\n",
        "from sklearn.model_selection import train_test_split\n",
        "from sklearn.preprocessing import LabelEncoder\n",
        "from sklearn.feature_extraction.text import TfidfVectorizer\n",
        "# Türkçe stop-word listesini indir\n",
        "nltk.download('stopwords')\n",
        "turkish_stop_words = stopwords.words('turkish')\n",
        "# Metin ve etiketleri ayırma\n",
        "texts = merged_data['Tweet']\n",
        "labels = merged_data['Etiket']\n",
        "\n",
        "# Label encoding\n",
        "label_encoder = LabelEncoder()\n",
        "labels = label_encoder.fit_transform(labels)\n",
        "\n",
        "# Eğitim ve test bölme\n",
        "X_train, X_test, y_train, y_test = train_test_split(texts, labels, test_size=0.2, random_state=42)\n",
        "\n",
        "# TF-IDF Vectorizer tanımlama\n",
        "max_features = 5000  # İstediğiniz maksimum özellik sayısını ayarlayın\n",
        "vectorizer = TfidfVectorizer(max_features=max_features, stop_words=turkish_stop_words)\n",
        "\n",
        "# Eğitim ve test verilerini vektörleştirme\n",
        "X_train_tfidf = vectorizer.fit_transform(X_train).toarray()\n",
        "X_test_tfidf = vectorizer.transform(X_test).toarray()\n",
        "\n",
        "# Kontrol\n",
        "print(\"Eğitim verisi şekli:\", X_train_tfidf.shape)\n",
        "print(\"Test verisi şekli:\", X_test_tfidf.shape)\n",
        "print(\"TF-IDF örnek değerler:\", X_train_tfidf[0])"
      ]
    },
    {
      "cell_type": "code",
      "source": [
        "!pip install pyswarms"
      ],
      "metadata": {
        "colab": {
          "base_uri": "https://localhost:8080/"
        },
        "id": "9G8W8wLamfXS",
        "outputId": "99bad3af-5bc3-40d3-c1fc-6b40a3e72f22"
      },
      "execution_count": 2,
      "outputs": [
        {
          "output_type": "stream",
          "name": "stdout",
          "text": [
            "Collecting pyswarms\n",
            "  Downloading pyswarms-1.3.0-py2.py3-none-any.whl.metadata (33 kB)\n",
            "Requirement already satisfied: scipy in /usr/local/lib/python3.10/dist-packages (from pyswarms) (1.13.1)\n",
            "Requirement already satisfied: numpy in /usr/local/lib/python3.10/dist-packages (from pyswarms) (1.26.4)\n",
            "Requirement already satisfied: matplotlib>=1.3.1 in /usr/local/lib/python3.10/dist-packages (from pyswarms) (3.8.0)\n",
            "Requirement already satisfied: attrs in /usr/local/lib/python3.10/dist-packages (from pyswarms) (24.3.0)\n",
            "Requirement already satisfied: tqdm in /usr/local/lib/python3.10/dist-packages (from pyswarms) (4.67.1)\n",
            "Requirement already satisfied: future in /usr/local/lib/python3.10/dist-packages (from pyswarms) (1.0.0)\n",
            "Requirement already satisfied: pyyaml in /usr/local/lib/python3.10/dist-packages (from pyswarms) (6.0.2)\n",
            "Requirement already satisfied: contourpy>=1.0.1 in /usr/local/lib/python3.10/dist-packages (from matplotlib>=1.3.1->pyswarms) (1.3.1)\n",
            "Requirement already satisfied: cycler>=0.10 in /usr/local/lib/python3.10/dist-packages (from matplotlib>=1.3.1->pyswarms) (0.12.1)\n",
            "Requirement already satisfied: fonttools>=4.22.0 in /usr/local/lib/python3.10/dist-packages (from matplotlib>=1.3.1->pyswarms) (4.55.3)\n",
            "Requirement already satisfied: kiwisolver>=1.0.1 in /usr/local/lib/python3.10/dist-packages (from matplotlib>=1.3.1->pyswarms) (1.4.7)\n",
            "Requirement already satisfied: packaging>=20.0 in /usr/local/lib/python3.10/dist-packages (from matplotlib>=1.3.1->pyswarms) (24.2)\n",
            "Requirement already satisfied: pillow>=6.2.0 in /usr/local/lib/python3.10/dist-packages (from matplotlib>=1.3.1->pyswarms) (11.0.0)\n",
            "Requirement already satisfied: pyparsing>=2.3.1 in /usr/local/lib/python3.10/dist-packages (from matplotlib>=1.3.1->pyswarms) (3.2.0)\n",
            "Requirement already satisfied: python-dateutil>=2.7 in /usr/local/lib/python3.10/dist-packages (from matplotlib>=1.3.1->pyswarms) (2.8.2)\n",
            "Requirement already satisfied: six>=1.5 in /usr/local/lib/python3.10/dist-packages (from python-dateutil>=2.7->matplotlib>=1.3.1->pyswarms) (1.17.0)\n",
            "Downloading pyswarms-1.3.0-py2.py3-none-any.whl (104 kB)\n",
            "\u001b[2K   \u001b[90m━━━━━━━━━━━━━━━━━━━━━━━━━━━━━━━━━━━━━━━━\u001b[0m \u001b[32m104.1/104.1 kB\u001b[0m \u001b[31m6.3 MB/s\u001b[0m eta \u001b[36m0:00:00\u001b[0m\n",
            "\u001b[?25hInstalling collected packages: pyswarms\n",
            "Successfully installed pyswarms-1.3.0\n"
          ]
        }
      ]
    },
    {
      "cell_type": "markdown",
      "source": [
        "WHY PSO?\n",
        "\n",
        "Particle Swarm Optimization (PSO) offers several distinct advantages over other metaheuristic optimization algorithms, making it a popular choice for hyperparameter optimization of artificial neural networks (ANNs). Here’s how PSO differs from other metaheuristic algorithms:\n",
        "\n",
        "1. Better Global Search Capability\n",
        "PSO explores the solution space globally, and due to the interaction between particles, the likelihood of getting stuck in local minima is lower. Other algorithms (such as Genetic Algorithms) often require more operations to avoid local optima, whereas PSO naturally performs a broader search.\n",
        "2. Faster and More Efficient Exploration\n",
        "PSO is known for quickly finding solutions because each particle learns from both its own experience and the best global solution. This allows for faster and more efficient searches compared to algorithms like Simulated Annealing or Tabu Search.\n",
        "3. Fewer Parameter Settings\n",
        "PSO generally requires fewer parameter adjustments compared to other metaheuristic algorithms (such as Genetic Algorithms), which often involve more parameters. This makes PSO easier and quicker to implement.\n",
        "4. Lower Computational Cost\n",
        "PSO typically operates with lower computational cost. When compared to Genetic Algorithms, which require more generations and complex operators, PSO generally has a shorter runtime and less computational overhead.\n",
        "5. Effective Solution Space Exploration\n",
        "PSO particles explore and optimize the solution space in a more uniform manner. This leads to a more systematic and comprehensive search compared to algorithms like Differential Evolution or Artificial Bee Colony, which might have less consistent exploration patterns.\n",
        "6. Ability to Handle Both Continuous and Discrete Parameters\n",
        "PSO can handle both continuous and discrete parameters effectively. Other algorithms might struggle when working with discrete parameters, but PSO can optimize both types of parameters with ease.\n",
        "\n",
        "\n",
        "\n",
        "\n",
        "\n",
        "PSO provides a fast, flexible, and global search strategy, making it ideal for hyperparameter optimization in ANN models. Its simple parameter settings and low computational cost allow for effective results, particularly in deep learning and ANN optimization tasks. These advantages make PSO an excellent choice over other metaheuristic methods."
      ],
      "metadata": {
        "id": "nk-parRHqU5H"
      }
    },
    {
      "cell_type": "code",
      "source": [
        "import pyswarms as ps\n",
        "import numpy as np\n",
        "from keras.models import Sequential\n",
        "from keras.layers import Dense, Dropout\n",
        "from keras.optimizers import Adam, SGD, RMSprop\n",
        "from sklearn.metrics import accuracy_score\n",
        "\n",
        "# ANN modelini oluşturma fonksiyonu\n",
        "def create_ann_model(layers, neurons, learning_rate, activation, dropout_rate, optimizer_type, batch_size, kernel_initializer):\n",
        "    model = Sequential()\n",
        "    model.add(Dense(neurons, input_dim=X_train_tfidf.shape[1], activation=activation))\n",
        "\n",
        "    for _ in range(layers):\n",
        "        model.add(Dense(neurons, activation=activation))\n",
        "        if dropout_rate > 0:\n",
        "            model.add(Dropout(dropout_rate))  # Dropout ekleme\n",
        "\n",
        "    model.add(Dense(1, activation='sigmoid'))\n",
        "\n",
        "    # Optimizer seçimi\n",
        "    if optimizer_type == 'adam':\n",
        "        optimizer = Adam(learning_rate=learning_rate)\n",
        "    elif optimizer_type == 'sgd':\n",
        "        optimizer = SGD(learning_rate=learning_rate)\n",
        "    elif optimizer_type == 'rmsprop':\n",
        "        optimizer = RMSprop(learning_rate=learning_rate)\n",
        "\n",
        "    model.compile(loss='binary_crossentropy', optimizer=optimizer, metrics=['accuracy'])\n",
        "    return model\n",
        "\n",
        "# Modeli eğitme fonksiyonu\n",
        "def train_and_evaluate(params):\n",
        "    # Accessing parameters, ensuring they are scalars\n",
        "    layers = int(params[0][0])  # Katman sayısı\n",
        "    neurons = int(params[0][1])  # Nöron sayısı\n",
        "    learning_rate = params[0][2]  # Öğrenme oranı\n",
        "    activation = ['relu', 'sigmoid', 'tanh'][int(params[0][3])]  # Aktivasyon fonksiyonu (indeksle seçiyoruz)\n",
        "    dropout_rate = params[0][4]  # Dropout oranı\n",
        "    optimizer_type = ['adam', 'sgd', 'rmsprop'][int(params[0][5])]  # Optimizer tipi (indeksle seçiyoruz)\n",
        "    batch_size = int(params[0][6])  # Batch boyutu\n",
        "    kernel_initializer = ['he_uniform', 'glorot_uniform', 'random_normal'][int(params[0][7])]  # Kernel başlatıcı\n",
        "\n",
        "    # Modeli oluştur\n",
        "    model = create_ann_model(layers, neurons, learning_rate, activation, dropout_rate, optimizer_type, batch_size, kernel_initializer)\n",
        "\n",
        "\n",
        "    # Model oluştururken kernel_initializer'ı kullanın\n",
        "    #model.add(Dense(neurons, input_dim=X_train_tfidf.shape[1], activation=activation, kernel_initializer=kernel_initializer))\n",
        "\n",
        "    # Model eğitirken batch_size kullanın\n",
        "    model.fit(X_train_tfidf, y_train, epochs=5, batch_size=batch_size, verbose=0)\n",
        "\n",
        "    # Test verisi üzerinde doğruluğu hesapla\n",
        "    y_pred = model.predict(X_test_tfidf)\n",
        "    y_pred = (y_pred > 0.5).astype(int)\n",
        "    accuracy = accuracy_score(y_test, y_pred)\n",
        "\n",
        "    return -accuracy  # PySwarms minimizasyon yaptığı için doğruluk negatif alınır\n",
        "\n",
        "# PSO (Parçacık Sürüsü Optimizasyonu) parametre ayarları\n",
        "options = {\n",
        "    'c1': 1.5,  # Kendi geçmiş bilgisi\n",
        "    'c2': 1.5,  # Global en iyi çözüme katkı\n",
        "    'w': 0.3   # İnertial weight\n",
        "}\n",
        "\n",
        "dimensions = 8  # Katman sayısı, Nöron sayısı, Öğrenme oranı, Aktivasyon fonksiyonu, Dropout oranı, Optimizer tipi, Batch Size, Kernel Initializer\n",
        "bounds = (\n",
        "    np.array([1, 5, 0.0001, 0, 0, 0, 16, 0]),  # Min değerler\n",
        "    np.array([5, 128, 0.1, 2, 0.5, 2, 256, 2])  # Max değerler\n",
        ")\n",
        "\n",
        "# PSO Optimizer\n",
        "optimizer = ps.single.GlobalBestPSO(n_particles=20, dimensions=dimensions, options=options, bounds=bounds)\n",
        "\n",
        "# 10 iterasyon için optimizasyon\n",
        "print(\"Optimization starts with 10 iterations...\")\n",
        "cost, pos = optimizer.optimize(train_and_evaluate, iters=10)\n",
        "best_layers = int(pos[0])  # En iyi katman sayısı\n",
        "best_neurons = int(pos[1])  # En iyi nöron sayısı\n",
        "best_learning_rate = pos[2]  # En iyi öğrenme oranı\n",
        "best_activation = ['relu', 'sigmoid', 'tanh'][int(pos[3])]  # En iyi aktivasyon fonksiyonu\n",
        "best_dropout_rate = pos[4]  # En iyi dropout oranı\n",
        "best_optimizer_type = ['adam', 'sgd', 'rmsprop'][int(pos[5])]  # En iyi optimizer tipi\n",
        "best_batch_size = int(pos[6])  # En iyi batch boyutu\n",
        "best_kernel_initializer = ['he_uniform', 'glorot_uniform', 'random_normal'][int(pos[7])]  # En iyi kernel başlatıcı\n",
        "\n",
        "print(\"Best solution (10 iteration):\")\n",
        "print(f\"Layer numbers: {best_layers}\")\n",
        "print(f\"Neuron numbers: {best_neurons}\")\n",
        "print(f\"Learning rate: {best_learning_rate}\")\n",
        "print(f\"Activation function: {best_activation}\")\n",
        "print(f\"Dropout rate: {best_dropout_rate}\")\n",
        "print(f\"Optimizer type: {best_optimizer_type}\")\n",
        "print(f\"Batch size: {best_batch_size}\")\n",
        "print(f\"Kernel initializer: {best_kernel_initializer}\")\n",
        "print(f\"Accuracy: {-cost}\")\n",
        "\n",
        "# 50 iterasyon için optimizasyon\n",
        "print(\"Optimization starts with 50 iterations..\")\n",
        "cost, pos = optimizer.optimize(train_and_evaluate, iters=50)\n",
        "best_layers = int(pos[0])  # En iyi katman sayısı\n",
        "best_neurons = int(pos[1])  # En iyi nöron sayısı\n",
        "best_learning_rate = pos[2]  # En iyi öğrenme oranı\n",
        "best_activation = ['relu', 'sigmoid', 'tanh'][int(pos[3])]  # En iyi aktivasyon fonksiyonu\n",
        "best_dropout_rate = pos[4]  # En iyi dropout oranı\n",
        "best_optimizer_type = ['adam', 'sgd', 'rmsprop'][int(pos[5])]  # En iyi optimizer tipi\n",
        "best_batch_size = int(pos[6])  # En iyi batch boyutu\n",
        "best_kernel_initializer = ['he_uniform', 'glorot_uniform', 'random_normal'][int(pos[7])]  # En iyi kernel başlatıcı\n",
        "\n",
        "print(\"Best solution (50 iteration):\")\n",
        "print(f\"Layer numbers: {best_layers}\")\n",
        "print(f\"Neuron numbers: {best_neurons}\")\n",
        "print(f\"Learning rate: {best_learning_rate}\")\n",
        "print(f\"Activation function: {best_activation}\")\n",
        "print(f\"Dropout rate: {best_dropout_rate}\")\n",
        "print(f\"Optimizer type: {best_optimizer_type}\")\n",
        "print(f\"Batch size: {best_batch_size}\")\n",
        "print(f\"Kernel initializer: {best_kernel_initializer}\")\n",
        "print(f\"Accuracy: {-cost}\")\n"
      ],
      "metadata": {
        "colab": {
          "base_uri": "https://localhost:8080/"
        },
        "id": "GUoowkNSmaMu",
        "outputId": "8c66675d-532b-4c0d-badc-728c03e0e9ce"
      },
      "execution_count": 6,
      "outputs": [
        {
          "output_type": "stream",
          "name": "stderr",
          "text": [
            "2025-01-03 19:25:09,660 - pyswarms.single.global_best - INFO - Optimize for 10 iters with {'c1': 1.5, 'c2': 1.5, 'w': 0.3}\n"
          ]
        },
        {
          "output_type": "stream",
          "name": "stdout",
          "text": [
            "Optimization starts with 10 iterations...\n"
          ]
        },
        {
          "output_type": "stream",
          "name": "stderr",
          "text": [
            "\rpyswarms.single.global_best:   0%|          |0/10/usr/local/lib/python3.10/dist-packages/keras/src/layers/core/dense.py:87: UserWarning: Do not pass an `input_shape`/`input_dim` argument to a layer. When using Sequential models, prefer using an `Input(shape)` object as the first layer in the model instead.\n",
            "  super().__init__(activity_regularizer=activity_regularizer, **kwargs)\n"
          ]
        },
        {
          "output_type": "stream",
          "name": "stdout",
          "text": [
            "\u001b[1m64/64\u001b[0m \u001b[32m━━━━━━━━━━━━━━━━━━━━\u001b[0m\u001b[37m\u001b[0m \u001b[1m0s\u001b[0m 3ms/step\n"
          ]
        },
        {
          "output_type": "stream",
          "name": "stderr",
          "text": [
            "pyswarms.single.global_best:  10%|█         |1/10, best_cost=-0.82/usr/local/lib/python3.10/dist-packages/keras/src/layers/core/dense.py:87: UserWarning: Do not pass an `input_shape`/`input_dim` argument to a layer. When using Sequential models, prefer using an `Input(shape)` object as the first layer in the model instead.\n",
            "  super().__init__(activity_regularizer=activity_regularizer, **kwargs)\n"
          ]
        },
        {
          "output_type": "stream",
          "name": "stdout",
          "text": [
            "\u001b[1m64/64\u001b[0m \u001b[32m━━━━━━━━━━━━━━━━━━━━\u001b[0m\u001b[37m\u001b[0m \u001b[1m0s\u001b[0m 2ms/step\n"
          ]
        },
        {
          "output_type": "stream",
          "name": "stderr",
          "text": [
            "pyswarms.single.global_best:  20%|██        |2/10, best_cost=-0.823/usr/local/lib/python3.10/dist-packages/keras/src/layers/core/dense.py:87: UserWarning: Do not pass an `input_shape`/`input_dim` argument to a layer. When using Sequential models, prefer using an `Input(shape)` object as the first layer in the model instead.\n",
            "  super().__init__(activity_regularizer=activity_regularizer, **kwargs)\n"
          ]
        },
        {
          "output_type": "stream",
          "name": "stdout",
          "text": [
            "\u001b[1m64/64\u001b[0m \u001b[32m━━━━━━━━━━━━━━━━━━━━\u001b[0m\u001b[37m\u001b[0m \u001b[1m0s\u001b[0m 3ms/step\n"
          ]
        },
        {
          "output_type": "stream",
          "name": "stderr",
          "text": [
            "pyswarms.single.global_best:  30%|███       |3/10, best_cost=-0.823/usr/local/lib/python3.10/dist-packages/keras/src/layers/core/dense.py:87: UserWarning: Do not pass an `input_shape`/`input_dim` argument to a layer. When using Sequential models, prefer using an `Input(shape)` object as the first layer in the model instead.\n",
            "  super().__init__(activity_regularizer=activity_regularizer, **kwargs)\n"
          ]
        },
        {
          "output_type": "stream",
          "name": "stdout",
          "text": [
            "\u001b[1m64/64\u001b[0m \u001b[32m━━━━━━━━━━━━━━━━━━━━\u001b[0m\u001b[37m\u001b[0m \u001b[1m0s\u001b[0m 4ms/step\n"
          ]
        },
        {
          "output_type": "stream",
          "name": "stderr",
          "text": [
            "pyswarms.single.global_best:  40%|████      |4/10, best_cost=-0.823/usr/local/lib/python3.10/dist-packages/keras/src/layers/core/dense.py:87: UserWarning: Do not pass an `input_shape`/`input_dim` argument to a layer. When using Sequential models, prefer using an `Input(shape)` object as the first layer in the model instead.\n",
            "  super().__init__(activity_regularizer=activity_regularizer, **kwargs)\n"
          ]
        },
        {
          "output_type": "stream",
          "name": "stdout",
          "text": [
            "\u001b[1m64/64\u001b[0m \u001b[32m━━━━━━━━━━━━━━━━━━━━\u001b[0m\u001b[37m\u001b[0m \u001b[1m0s\u001b[0m 2ms/step\n"
          ]
        },
        {
          "output_type": "stream",
          "name": "stderr",
          "text": [
            "pyswarms.single.global_best:  50%|█████     |5/10, best_cost=-0.823/usr/local/lib/python3.10/dist-packages/keras/src/layers/core/dense.py:87: UserWarning: Do not pass an `input_shape`/`input_dim` argument to a layer. When using Sequential models, prefer using an `Input(shape)` object as the first layer in the model instead.\n",
            "  super().__init__(activity_regularizer=activity_regularizer, **kwargs)\n"
          ]
        },
        {
          "output_type": "stream",
          "name": "stdout",
          "text": [
            "\u001b[1m64/64\u001b[0m \u001b[32m━━━━━━━━━━━━━━━━━━━━\u001b[0m\u001b[37m\u001b[0m \u001b[1m0s\u001b[0m 3ms/step\n"
          ]
        },
        {
          "output_type": "stream",
          "name": "stderr",
          "text": [
            "pyswarms.single.global_best:  60%|██████    |6/10, best_cost=-0.823/usr/local/lib/python3.10/dist-packages/keras/src/layers/core/dense.py:87: UserWarning: Do not pass an `input_shape`/`input_dim` argument to a layer. When using Sequential models, prefer using an `Input(shape)` object as the first layer in the model instead.\n",
            "  super().__init__(activity_regularizer=activity_regularizer, **kwargs)\n"
          ]
        },
        {
          "output_type": "stream",
          "name": "stdout",
          "text": [
            "\u001b[1m64/64\u001b[0m \u001b[32m━━━━━━━━━━━━━━━━━━━━\u001b[0m\u001b[37m\u001b[0m \u001b[1m0s\u001b[0m 4ms/step\n"
          ]
        },
        {
          "output_type": "stream",
          "name": "stderr",
          "text": [
            "pyswarms.single.global_best:  70%|███████   |7/10, best_cost=-0.823/usr/local/lib/python3.10/dist-packages/keras/src/layers/core/dense.py:87: UserWarning: Do not pass an `input_shape`/`input_dim` argument to a layer. When using Sequential models, prefer using an `Input(shape)` object as the first layer in the model instead.\n",
            "  super().__init__(activity_regularizer=activity_regularizer, **kwargs)\n"
          ]
        },
        {
          "output_type": "stream",
          "name": "stdout",
          "text": [
            "\u001b[1m64/64\u001b[0m \u001b[32m━━━━━━━━━━━━━━━━━━━━\u001b[0m\u001b[37m\u001b[0m \u001b[1m0s\u001b[0m 2ms/step\n"
          ]
        },
        {
          "output_type": "stream",
          "name": "stderr",
          "text": [
            "pyswarms.single.global_best:  80%|████████  |8/10, best_cost=-0.823/usr/local/lib/python3.10/dist-packages/keras/src/layers/core/dense.py:87: UserWarning: Do not pass an `input_shape`/`input_dim` argument to a layer. When using Sequential models, prefer using an `Input(shape)` object as the first layer in the model instead.\n",
            "  super().__init__(activity_regularizer=activity_regularizer, **kwargs)\n"
          ]
        },
        {
          "output_type": "stream",
          "name": "stdout",
          "text": [
            "\u001b[1m64/64\u001b[0m \u001b[32m━━━━━━━━━━━━━━━━━━━━\u001b[0m\u001b[37m\u001b[0m \u001b[1m0s\u001b[0m 2ms/step\n"
          ]
        },
        {
          "output_type": "stream",
          "name": "stderr",
          "text": [
            "pyswarms.single.global_best:  90%|█████████ |9/10, best_cost=-0.823/usr/local/lib/python3.10/dist-packages/keras/src/layers/core/dense.py:87: UserWarning: Do not pass an `input_shape`/`input_dim` argument to a layer. When using Sequential models, prefer using an `Input(shape)` object as the first layer in the model instead.\n",
            "  super().__init__(activity_regularizer=activity_regularizer, **kwargs)\n"
          ]
        },
        {
          "output_type": "stream",
          "name": "stdout",
          "text": [
            "\u001b[1m64/64\u001b[0m \u001b[32m━━━━━━━━━━━━━━━━━━━━\u001b[0m\u001b[37m\u001b[0m \u001b[1m0s\u001b[0m 2ms/step\n"
          ]
        },
        {
          "output_type": "stream",
          "name": "stderr",
          "text": [
            "pyswarms.single.global_best: 100%|██████████|10/10, best_cost=-0.823\n",
            "2025-01-03 19:26:00,751 - pyswarms.single.global_best - INFO - Optimization finished | best cost: -0.8234718826405868, best pos: [1.82290572e+00 5.24769260e+01 6.48320100e-02 1.26887425e+00\n",
            " 4.96430803e-01 9.07585820e-01 2.49229019e+02 5.35752534e-01]\n",
            "2025-01-03 19:26:00,754 - pyswarms.single.global_best - INFO - Optimize for 50 iters with {'c1': 1.5, 'c2': 1.5, 'w': 0.3}\n"
          ]
        },
        {
          "output_type": "stream",
          "name": "stdout",
          "text": [
            "Best solution (10 iteration):\n",
            "Layer numbers: 1\n",
            "Neuron numbers: 52\n",
            "Learning rate: 0.06483200997139306\n",
            "Activation function: sigmoid\n",
            "Dropout rate: 0.4964308025551166\n",
            "Optimizer type: adam\n",
            "Batch size: 249\n",
            "Kernel initializer: he_uniform\n",
            "Accuracy: 0.8234718826405868\n",
            "Optimization starts with 50 iterations..\n"
          ]
        },
        {
          "output_type": "stream",
          "name": "stderr",
          "text": [
            "\rpyswarms.single.global_best:   0%|          |0/50/usr/local/lib/python3.10/dist-packages/keras/src/layers/core/dense.py:87: UserWarning: Do not pass an `input_shape`/`input_dim` argument to a layer. When using Sequential models, prefer using an `Input(shape)` object as the first layer in the model instead.\n",
            "  super().__init__(activity_regularizer=activity_regularizer, **kwargs)\n"
          ]
        },
        {
          "output_type": "stream",
          "name": "stdout",
          "text": [
            "\u001b[1m64/64\u001b[0m \u001b[32m━━━━━━━━━━━━━━━━━━━━\u001b[0m\u001b[37m\u001b[0m \u001b[1m0s\u001b[0m 2ms/step\n"
          ]
        },
        {
          "output_type": "stream",
          "name": "stderr",
          "text": [
            "pyswarms.single.global_best:   2%|▏         |1/50, best_cost=-0.823/usr/local/lib/python3.10/dist-packages/keras/src/layers/core/dense.py:87: UserWarning: Do not pass an `input_shape`/`input_dim` argument to a layer. When using Sequential models, prefer using an `Input(shape)` object as the first layer in the model instead.\n",
            "  super().__init__(activity_regularizer=activity_regularizer, **kwargs)\n"
          ]
        },
        {
          "output_type": "stream",
          "name": "stdout",
          "text": [
            "\u001b[1m64/64\u001b[0m \u001b[32m━━━━━━━━━━━━━━━━━━━━\u001b[0m\u001b[37m\u001b[0m \u001b[1m0s\u001b[0m 3ms/step\n"
          ]
        },
        {
          "output_type": "stream",
          "name": "stderr",
          "text": [
            "pyswarms.single.global_best:   4%|▍         |2/50, best_cost=-0.823/usr/local/lib/python3.10/dist-packages/keras/src/layers/core/dense.py:87: UserWarning: Do not pass an `input_shape`/`input_dim` argument to a layer. When using Sequential models, prefer using an `Input(shape)` object as the first layer in the model instead.\n",
            "  super().__init__(activity_regularizer=activity_regularizer, **kwargs)\n"
          ]
        },
        {
          "output_type": "stream",
          "name": "stdout",
          "text": [
            "\u001b[1m64/64\u001b[0m \u001b[32m━━━━━━━━━━━━━━━━━━━━\u001b[0m\u001b[37m\u001b[0m \u001b[1m0s\u001b[0m 2ms/step\n"
          ]
        },
        {
          "output_type": "stream",
          "name": "stderr",
          "text": [
            "pyswarms.single.global_best:   6%|▌         |3/50, best_cost=-0.829/usr/local/lib/python3.10/dist-packages/keras/src/layers/core/dense.py:87: UserWarning: Do not pass an `input_shape`/`input_dim` argument to a layer. When using Sequential models, prefer using an `Input(shape)` object as the first layer in the model instead.\n",
            "  super().__init__(activity_regularizer=activity_regularizer, **kwargs)\n"
          ]
        },
        {
          "output_type": "stream",
          "name": "stdout",
          "text": [
            "\u001b[1m64/64\u001b[0m \u001b[32m━━━━━━━━━━━━━━━━━━━━\u001b[0m\u001b[37m\u001b[0m \u001b[1m0s\u001b[0m 2ms/step\n"
          ]
        },
        {
          "output_type": "stream",
          "name": "stderr",
          "text": [
            "pyswarms.single.global_best:   8%|▊         |4/50, best_cost=-0.829/usr/local/lib/python3.10/dist-packages/keras/src/layers/core/dense.py:87: UserWarning: Do not pass an `input_shape`/`input_dim` argument to a layer. When using Sequential models, prefer using an `Input(shape)` object as the first layer in the model instead.\n",
            "  super().__init__(activity_regularizer=activity_regularizer, **kwargs)\n"
          ]
        },
        {
          "output_type": "stream",
          "name": "stdout",
          "text": [
            "\u001b[1m64/64\u001b[0m \u001b[32m━━━━━━━━━━━━━━━━━━━━\u001b[0m\u001b[37m\u001b[0m \u001b[1m0s\u001b[0m 3ms/step\n"
          ]
        },
        {
          "output_type": "stream",
          "name": "stderr",
          "text": [
            "pyswarms.single.global_best:  10%|█         |5/50, best_cost=-0.829/usr/local/lib/python3.10/dist-packages/keras/src/layers/core/dense.py:87: UserWarning: Do not pass an `input_shape`/`input_dim` argument to a layer. When using Sequential models, prefer using an `Input(shape)` object as the first layer in the model instead.\n",
            "  super().__init__(activity_regularizer=activity_regularizer, **kwargs)\n"
          ]
        },
        {
          "output_type": "stream",
          "name": "stdout",
          "text": [
            "\u001b[1m64/64\u001b[0m \u001b[32m━━━━━━━━━━━━━━━━━━━━\u001b[0m\u001b[37m\u001b[0m \u001b[1m0s\u001b[0m 2ms/step\n"
          ]
        },
        {
          "output_type": "stream",
          "name": "stderr",
          "text": [
            "pyswarms.single.global_best:  12%|█▏        |6/50, best_cost=-0.829/usr/local/lib/python3.10/dist-packages/keras/src/layers/core/dense.py:87: UserWarning: Do not pass an `input_shape`/`input_dim` argument to a layer. When using Sequential models, prefer using an `Input(shape)` object as the first layer in the model instead.\n",
            "  super().__init__(activity_regularizer=activity_regularizer, **kwargs)\n"
          ]
        },
        {
          "output_type": "stream",
          "name": "stdout",
          "text": [
            "\u001b[1m64/64\u001b[0m \u001b[32m━━━━━━━━━━━━━━━━━━━━\u001b[0m\u001b[37m\u001b[0m \u001b[1m0s\u001b[0m 2ms/step\n"
          ]
        },
        {
          "output_type": "stream",
          "name": "stderr",
          "text": [
            "pyswarms.single.global_best:  14%|█▍        |7/50, best_cost=-0.829/usr/local/lib/python3.10/dist-packages/keras/src/layers/core/dense.py:87: UserWarning: Do not pass an `input_shape`/`input_dim` argument to a layer. When using Sequential models, prefer using an `Input(shape)` object as the first layer in the model instead.\n",
            "  super().__init__(activity_regularizer=activity_regularizer, **kwargs)\n"
          ]
        },
        {
          "output_type": "stream",
          "name": "stdout",
          "text": [
            "\u001b[1m64/64\u001b[0m \u001b[32m━━━━━━━━━━━━━━━━━━━━\u001b[0m\u001b[37m\u001b[0m \u001b[1m0s\u001b[0m 3ms/step\n"
          ]
        },
        {
          "output_type": "stream",
          "name": "stderr",
          "text": [
            "pyswarms.single.global_best:  16%|█▌        |8/50, best_cost=-0.829/usr/local/lib/python3.10/dist-packages/keras/src/layers/core/dense.py:87: UserWarning: Do not pass an `input_shape`/`input_dim` argument to a layer. When using Sequential models, prefer using an `Input(shape)` object as the first layer in the model instead.\n",
            "  super().__init__(activity_regularizer=activity_regularizer, **kwargs)\n"
          ]
        },
        {
          "output_type": "stream",
          "name": "stdout",
          "text": [
            "\u001b[1m64/64\u001b[0m \u001b[32m━━━━━━━━━━━━━━━━━━━━\u001b[0m\u001b[37m\u001b[0m \u001b[1m0s\u001b[0m 4ms/step\n"
          ]
        },
        {
          "output_type": "stream",
          "name": "stderr",
          "text": [
            "pyswarms.single.global_best:  18%|█▊        |9/50, best_cost=-0.829/usr/local/lib/python3.10/dist-packages/keras/src/layers/core/dense.py:87: UserWarning: Do not pass an `input_shape`/`input_dim` argument to a layer. When using Sequential models, prefer using an `Input(shape)` object as the first layer in the model instead.\n",
            "  super().__init__(activity_regularizer=activity_regularizer, **kwargs)\n"
          ]
        },
        {
          "output_type": "stream",
          "name": "stdout",
          "text": [
            "\u001b[1m64/64\u001b[0m \u001b[32m━━━━━━━━━━━━━━━━━━━━\u001b[0m\u001b[37m\u001b[0m \u001b[1m0s\u001b[0m 3ms/step\n"
          ]
        },
        {
          "output_type": "stream",
          "name": "stderr",
          "text": [
            "pyswarms.single.global_best:  20%|██        |10/50, best_cost=-0.829/usr/local/lib/python3.10/dist-packages/keras/src/layers/core/dense.py:87: UserWarning: Do not pass an `input_shape`/`input_dim` argument to a layer. When using Sequential models, prefer using an `Input(shape)` object as the first layer in the model instead.\n",
            "  super().__init__(activity_regularizer=activity_regularizer, **kwargs)\n"
          ]
        },
        {
          "output_type": "stream",
          "name": "stdout",
          "text": [
            "\u001b[1m64/64\u001b[0m \u001b[32m━━━━━━━━━━━━━━━━━━━━\u001b[0m\u001b[37m\u001b[0m \u001b[1m0s\u001b[0m 2ms/step\n"
          ]
        },
        {
          "output_type": "stream",
          "name": "stderr",
          "text": [
            "pyswarms.single.global_best:  22%|██▏       |11/50, best_cost=-0.829/usr/local/lib/python3.10/dist-packages/keras/src/layers/core/dense.py:87: UserWarning: Do not pass an `input_shape`/`input_dim` argument to a layer. When using Sequential models, prefer using an `Input(shape)` object as the first layer in the model instead.\n",
            "  super().__init__(activity_regularizer=activity_regularizer, **kwargs)\n"
          ]
        },
        {
          "output_type": "stream",
          "name": "stdout",
          "text": [
            "\u001b[1m64/64\u001b[0m \u001b[32m━━━━━━━━━━━━━━━━━━━━\u001b[0m\u001b[37m\u001b[0m \u001b[1m0s\u001b[0m 4ms/step\n"
          ]
        },
        {
          "output_type": "stream",
          "name": "stderr",
          "text": [
            "pyswarms.single.global_best:  24%|██▍       |12/50, best_cost=-0.829/usr/local/lib/python3.10/dist-packages/keras/src/layers/core/dense.py:87: UserWarning: Do not pass an `input_shape`/`input_dim` argument to a layer. When using Sequential models, prefer using an `Input(shape)` object as the first layer in the model instead.\n",
            "  super().__init__(activity_regularizer=activity_regularizer, **kwargs)\n"
          ]
        },
        {
          "output_type": "stream",
          "name": "stdout",
          "text": [
            "\u001b[1m64/64\u001b[0m \u001b[32m━━━━━━━━━━━━━━━━━━━━\u001b[0m\u001b[37m\u001b[0m \u001b[1m0s\u001b[0m 2ms/step\n"
          ]
        },
        {
          "output_type": "stream",
          "name": "stderr",
          "text": [
            "pyswarms.single.global_best:  26%|██▌       |13/50, best_cost=-0.829/usr/local/lib/python3.10/dist-packages/keras/src/layers/core/dense.py:87: UserWarning: Do not pass an `input_shape`/`input_dim` argument to a layer. When using Sequential models, prefer using an `Input(shape)` object as the first layer in the model instead.\n",
            "  super().__init__(activity_regularizer=activity_regularizer, **kwargs)\n"
          ]
        },
        {
          "output_type": "stream",
          "name": "stdout",
          "text": [
            "\u001b[1m64/64\u001b[0m \u001b[32m━━━━━━━━━━━━━━━━━━━━\u001b[0m\u001b[37m\u001b[0m \u001b[1m0s\u001b[0m 2ms/step\n"
          ]
        },
        {
          "output_type": "stream",
          "name": "stderr",
          "text": [
            "pyswarms.single.global_best:  28%|██▊       |14/50, best_cost=-0.829/usr/local/lib/python3.10/dist-packages/keras/src/layers/core/dense.py:87: UserWarning: Do not pass an `input_shape`/`input_dim` argument to a layer. When using Sequential models, prefer using an `Input(shape)` object as the first layer in the model instead.\n",
            "  super().__init__(activity_regularizer=activity_regularizer, **kwargs)\n"
          ]
        },
        {
          "output_type": "stream",
          "name": "stdout",
          "text": [
            "\u001b[1m64/64\u001b[0m \u001b[32m━━━━━━━━━━━━━━━━━━━━\u001b[0m\u001b[37m\u001b[0m \u001b[1m0s\u001b[0m 3ms/step\n"
          ]
        },
        {
          "output_type": "stream",
          "name": "stderr",
          "text": [
            "pyswarms.single.global_best:  30%|███       |15/50, best_cost=-0.829/usr/local/lib/python3.10/dist-packages/keras/src/layers/core/dense.py:87: UserWarning: Do not pass an `input_shape`/`input_dim` argument to a layer. When using Sequential models, prefer using an `Input(shape)` object as the first layer in the model instead.\n",
            "  super().__init__(activity_regularizer=activity_regularizer, **kwargs)\n"
          ]
        },
        {
          "output_type": "stream",
          "name": "stdout",
          "text": [
            "\u001b[1m64/64\u001b[0m \u001b[32m━━━━━━━━━━━━━━━━━━━━\u001b[0m\u001b[37m\u001b[0m \u001b[1m0s\u001b[0m 2ms/step\n"
          ]
        },
        {
          "output_type": "stream",
          "name": "stderr",
          "text": [
            "pyswarms.single.global_best:  32%|███▏      |16/50, best_cost=-0.829/usr/local/lib/python3.10/dist-packages/keras/src/layers/core/dense.py:87: UserWarning: Do not pass an `input_shape`/`input_dim` argument to a layer. When using Sequential models, prefer using an `Input(shape)` object as the first layer in the model instead.\n",
            "  super().__init__(activity_regularizer=activity_regularizer, **kwargs)\n"
          ]
        },
        {
          "output_type": "stream",
          "name": "stdout",
          "text": [
            "\u001b[1m64/64\u001b[0m \u001b[32m━━━━━━━━━━━━━━━━━━━━\u001b[0m\u001b[37m\u001b[0m \u001b[1m0s\u001b[0m 2ms/step\n"
          ]
        },
        {
          "output_type": "stream",
          "name": "stderr",
          "text": [
            "pyswarms.single.global_best:  34%|███▍      |17/50, best_cost=-0.829/usr/local/lib/python3.10/dist-packages/keras/src/layers/core/dense.py:87: UserWarning: Do not pass an `input_shape`/`input_dim` argument to a layer. When using Sequential models, prefer using an `Input(shape)` object as the first layer in the model instead.\n",
            "  super().__init__(activity_regularizer=activity_regularizer, **kwargs)\n"
          ]
        },
        {
          "output_type": "stream",
          "name": "stdout",
          "text": [
            "\u001b[1m64/64\u001b[0m \u001b[32m━━━━━━━━━━━━━━━━━━━━\u001b[0m\u001b[37m\u001b[0m \u001b[1m0s\u001b[0m 2ms/step\n"
          ]
        },
        {
          "output_type": "stream",
          "name": "stderr",
          "text": [
            "pyswarms.single.global_best:  36%|███▌      |18/50, best_cost=-0.829/usr/local/lib/python3.10/dist-packages/keras/src/layers/core/dense.py:87: UserWarning: Do not pass an `input_shape`/`input_dim` argument to a layer. When using Sequential models, prefer using an `Input(shape)` object as the first layer in the model instead.\n",
            "  super().__init__(activity_regularizer=activity_regularizer, **kwargs)\n"
          ]
        },
        {
          "output_type": "stream",
          "name": "stdout",
          "text": [
            "\u001b[1m64/64\u001b[0m \u001b[32m━━━━━━━━━━━━━━━━━━━━\u001b[0m\u001b[37m\u001b[0m \u001b[1m0s\u001b[0m 2ms/step\n"
          ]
        },
        {
          "output_type": "stream",
          "name": "stderr",
          "text": [
            "pyswarms.single.global_best:  38%|███▊      |19/50, best_cost=-0.829/usr/local/lib/python3.10/dist-packages/keras/src/layers/core/dense.py:87: UserWarning: Do not pass an `input_shape`/`input_dim` argument to a layer. When using Sequential models, prefer using an `Input(shape)` object as the first layer in the model instead.\n",
            "  super().__init__(activity_regularizer=activity_regularizer, **kwargs)\n"
          ]
        },
        {
          "output_type": "stream",
          "name": "stdout",
          "text": [
            "\u001b[1m64/64\u001b[0m \u001b[32m━━━━━━━━━━━━━━━━━━━━\u001b[0m\u001b[37m\u001b[0m \u001b[1m0s\u001b[0m 2ms/step\n"
          ]
        },
        {
          "output_type": "stream",
          "name": "stderr",
          "text": [
            "pyswarms.single.global_best:  40%|████      |20/50, best_cost=-0.829/usr/local/lib/python3.10/dist-packages/keras/src/layers/core/dense.py:87: UserWarning: Do not pass an `input_shape`/`input_dim` argument to a layer. When using Sequential models, prefer using an `Input(shape)` object as the first layer in the model instead.\n",
            "  super().__init__(activity_regularizer=activity_regularizer, **kwargs)\n"
          ]
        },
        {
          "output_type": "stream",
          "name": "stdout",
          "text": [
            "\u001b[1m64/64\u001b[0m \u001b[32m━━━━━━━━━━━━━━━━━━━━\u001b[0m\u001b[37m\u001b[0m \u001b[1m0s\u001b[0m 2ms/step\n"
          ]
        },
        {
          "output_type": "stream",
          "name": "stderr",
          "text": [
            "pyswarms.single.global_best:  42%|████▏     |21/50, best_cost=-0.829/usr/local/lib/python3.10/dist-packages/keras/src/layers/core/dense.py:87: UserWarning: Do not pass an `input_shape`/`input_dim` argument to a layer. When using Sequential models, prefer using an `Input(shape)` object as the first layer in the model instead.\n",
            "  super().__init__(activity_regularizer=activity_regularizer, **kwargs)\n"
          ]
        },
        {
          "output_type": "stream",
          "name": "stdout",
          "text": [
            "\u001b[1m64/64\u001b[0m \u001b[32m━━━━━━━━━━━━━━━━━━━━\u001b[0m\u001b[37m\u001b[0m \u001b[1m0s\u001b[0m 4ms/step\n"
          ]
        },
        {
          "output_type": "stream",
          "name": "stderr",
          "text": [
            "pyswarms.single.global_best:  44%|████▍     |22/50, best_cost=-0.829/usr/local/lib/python3.10/dist-packages/keras/src/layers/core/dense.py:87: UserWarning: Do not pass an `input_shape`/`input_dim` argument to a layer. When using Sequential models, prefer using an `Input(shape)` object as the first layer in the model instead.\n",
            "  super().__init__(activity_regularizer=activity_regularizer, **kwargs)\n"
          ]
        },
        {
          "output_type": "stream",
          "name": "stdout",
          "text": [
            "\u001b[1m64/64\u001b[0m \u001b[32m━━━━━━━━━━━━━━━━━━━━\u001b[0m\u001b[37m\u001b[0m \u001b[1m0s\u001b[0m 2ms/step\n"
          ]
        },
        {
          "output_type": "stream",
          "name": "stderr",
          "text": [
            "pyswarms.single.global_best:  46%|████▌     |23/50, best_cost=-0.829/usr/local/lib/python3.10/dist-packages/keras/src/layers/core/dense.py:87: UserWarning: Do not pass an `input_shape`/`input_dim` argument to a layer. When using Sequential models, prefer using an `Input(shape)` object as the first layer in the model instead.\n",
            "  super().__init__(activity_regularizer=activity_regularizer, **kwargs)\n"
          ]
        },
        {
          "output_type": "stream",
          "name": "stdout",
          "text": [
            "\u001b[1m64/64\u001b[0m \u001b[32m━━━━━━━━━━━━━━━━━━━━\u001b[0m\u001b[37m\u001b[0m \u001b[1m0s\u001b[0m 2ms/step\n"
          ]
        },
        {
          "output_type": "stream",
          "name": "stderr",
          "text": [
            "pyswarms.single.global_best:  48%|████▊     |24/50, best_cost=-0.829/usr/local/lib/python3.10/dist-packages/keras/src/layers/core/dense.py:87: UserWarning: Do not pass an `input_shape`/`input_dim` argument to a layer. When using Sequential models, prefer using an `Input(shape)` object as the first layer in the model instead.\n",
            "  super().__init__(activity_regularizer=activity_regularizer, **kwargs)\n"
          ]
        },
        {
          "output_type": "stream",
          "name": "stdout",
          "text": [
            "\u001b[1m64/64\u001b[0m \u001b[32m━━━━━━━━━━━━━━━━━━━━\u001b[0m\u001b[37m\u001b[0m \u001b[1m0s\u001b[0m 3ms/step\n"
          ]
        },
        {
          "output_type": "stream",
          "name": "stderr",
          "text": [
            "pyswarms.single.global_best:  50%|█████     |25/50, best_cost=-0.829/usr/local/lib/python3.10/dist-packages/keras/src/layers/core/dense.py:87: UserWarning: Do not pass an `input_shape`/`input_dim` argument to a layer. When using Sequential models, prefer using an `Input(shape)` object as the first layer in the model instead.\n",
            "  super().__init__(activity_regularizer=activity_regularizer, **kwargs)\n"
          ]
        },
        {
          "output_type": "stream",
          "name": "stdout",
          "text": [
            "\u001b[1m64/64\u001b[0m \u001b[32m━━━━━━━━━━━━━━━━━━━━\u001b[0m\u001b[37m\u001b[0m \u001b[1m0s\u001b[0m 2ms/step\n"
          ]
        },
        {
          "output_type": "stream",
          "name": "stderr",
          "text": [
            "pyswarms.single.global_best:  52%|█████▏    |26/50, best_cost=-0.829/usr/local/lib/python3.10/dist-packages/keras/src/layers/core/dense.py:87: UserWarning: Do not pass an `input_shape`/`input_dim` argument to a layer. When using Sequential models, prefer using an `Input(shape)` object as the first layer in the model instead.\n",
            "  super().__init__(activity_regularizer=activity_regularizer, **kwargs)\n"
          ]
        },
        {
          "output_type": "stream",
          "name": "stdout",
          "text": [
            "\u001b[1m64/64\u001b[0m \u001b[32m━━━━━━━━━━━━━━━━━━━━\u001b[0m\u001b[37m\u001b[0m \u001b[1m0s\u001b[0m 4ms/step\n"
          ]
        },
        {
          "output_type": "stream",
          "name": "stderr",
          "text": [
            "pyswarms.single.global_best:  54%|█████▍    |27/50, best_cost=-0.829/usr/local/lib/python3.10/dist-packages/keras/src/layers/core/dense.py:87: UserWarning: Do not pass an `input_shape`/`input_dim` argument to a layer. When using Sequential models, prefer using an `Input(shape)` object as the first layer in the model instead.\n",
            "  super().__init__(activity_regularizer=activity_regularizer, **kwargs)\n"
          ]
        },
        {
          "output_type": "stream",
          "name": "stdout",
          "text": [
            "\u001b[1m64/64\u001b[0m \u001b[32m━━━━━━━━━━━━━━━━━━━━\u001b[0m\u001b[37m\u001b[0m \u001b[1m0s\u001b[0m 2ms/step\n"
          ]
        },
        {
          "output_type": "stream",
          "name": "stderr",
          "text": [
            "pyswarms.single.global_best:  56%|█████▌    |28/50, best_cost=-0.829/usr/local/lib/python3.10/dist-packages/keras/src/layers/core/dense.py:87: UserWarning: Do not pass an `input_shape`/`input_dim` argument to a layer. When using Sequential models, prefer using an `Input(shape)` object as the first layer in the model instead.\n",
            "  super().__init__(activity_regularizer=activity_regularizer, **kwargs)\n"
          ]
        },
        {
          "output_type": "stream",
          "name": "stdout",
          "text": [
            "\u001b[1m64/64\u001b[0m \u001b[32m━━━━━━━━━━━━━━━━━━━━\u001b[0m\u001b[37m\u001b[0m \u001b[1m0s\u001b[0m 2ms/step\n"
          ]
        },
        {
          "output_type": "stream",
          "name": "stderr",
          "text": [
            "pyswarms.single.global_best:  58%|█████▊    |29/50, best_cost=-0.829/usr/local/lib/python3.10/dist-packages/keras/src/layers/core/dense.py:87: UserWarning: Do not pass an `input_shape`/`input_dim` argument to a layer. When using Sequential models, prefer using an `Input(shape)` object as the first layer in the model instead.\n",
            "  super().__init__(activity_regularizer=activity_regularizer, **kwargs)\n"
          ]
        },
        {
          "output_type": "stream",
          "name": "stdout",
          "text": [
            "\u001b[1m64/64\u001b[0m \u001b[32m━━━━━━━━━━━━━━━━━━━━\u001b[0m\u001b[37m\u001b[0m \u001b[1m0s\u001b[0m 3ms/step\n"
          ]
        },
        {
          "output_type": "stream",
          "name": "stderr",
          "text": [
            "pyswarms.single.global_best:  60%|██████    |30/50, best_cost=-0.829/usr/local/lib/python3.10/dist-packages/keras/src/layers/core/dense.py:87: UserWarning: Do not pass an `input_shape`/`input_dim` argument to a layer. When using Sequential models, prefer using an `Input(shape)` object as the first layer in the model instead.\n",
            "  super().__init__(activity_regularizer=activity_regularizer, **kwargs)\n"
          ]
        },
        {
          "output_type": "stream",
          "name": "stdout",
          "text": [
            "\u001b[1m64/64\u001b[0m \u001b[32m━━━━━━━━━━━━━━━━━━━━\u001b[0m\u001b[37m\u001b[0m \u001b[1m0s\u001b[0m 2ms/step\n"
          ]
        },
        {
          "output_type": "stream",
          "name": "stderr",
          "text": [
            "pyswarms.single.global_best:  62%|██████▏   |31/50, best_cost=-0.829/usr/local/lib/python3.10/dist-packages/keras/src/layers/core/dense.py:87: UserWarning: Do not pass an `input_shape`/`input_dim` argument to a layer. When using Sequential models, prefer using an `Input(shape)` object as the first layer in the model instead.\n",
            "  super().__init__(activity_regularizer=activity_regularizer, **kwargs)\n"
          ]
        },
        {
          "output_type": "stream",
          "name": "stdout",
          "text": [
            "\u001b[1m64/64\u001b[0m \u001b[32m━━━━━━━━━━━━━━━━━━━━\u001b[0m\u001b[37m\u001b[0m \u001b[1m0s\u001b[0m 2ms/step\n"
          ]
        },
        {
          "output_type": "stream",
          "name": "stderr",
          "text": [
            "pyswarms.single.global_best:  64%|██████▍   |32/50, best_cost=-0.829/usr/local/lib/python3.10/dist-packages/keras/src/layers/core/dense.py:87: UserWarning: Do not pass an `input_shape`/`input_dim` argument to a layer. When using Sequential models, prefer using an `Input(shape)` object as the first layer in the model instead.\n",
            "  super().__init__(activity_regularizer=activity_regularizer, **kwargs)\n"
          ]
        },
        {
          "output_type": "stream",
          "name": "stdout",
          "text": [
            "\u001b[1m64/64\u001b[0m \u001b[32m━━━━━━━━━━━━━━━━━━━━\u001b[0m\u001b[37m\u001b[0m \u001b[1m0s\u001b[0m 2ms/step\n"
          ]
        },
        {
          "output_type": "stream",
          "name": "stderr",
          "text": [
            "pyswarms.single.global_best:  66%|██████▌   |33/50, best_cost=-0.829/usr/local/lib/python3.10/dist-packages/keras/src/layers/core/dense.py:87: UserWarning: Do not pass an `input_shape`/`input_dim` argument to a layer. When using Sequential models, prefer using an `Input(shape)` object as the first layer in the model instead.\n",
            "  super().__init__(activity_regularizer=activity_regularizer, **kwargs)\n"
          ]
        },
        {
          "output_type": "stream",
          "name": "stdout",
          "text": [
            "\u001b[1m64/64\u001b[0m \u001b[32m━━━━━━━━━━━━━━━━━━━━\u001b[0m\u001b[37m\u001b[0m \u001b[1m0s\u001b[0m 3ms/step\n"
          ]
        },
        {
          "output_type": "stream",
          "name": "stderr",
          "text": [
            "pyswarms.single.global_best:  68%|██████▊   |34/50, best_cost=-0.829/usr/local/lib/python3.10/dist-packages/keras/src/layers/core/dense.py:87: UserWarning: Do not pass an `input_shape`/`input_dim` argument to a layer. When using Sequential models, prefer using an `Input(shape)` object as the first layer in the model instead.\n",
            "  super().__init__(activity_regularizer=activity_regularizer, **kwargs)\n"
          ]
        },
        {
          "output_type": "stream",
          "name": "stdout",
          "text": [
            "\u001b[1m64/64\u001b[0m \u001b[32m━━━━━━━━━━━━━━━━━━━━\u001b[0m\u001b[37m\u001b[0m \u001b[1m0s\u001b[0m 4ms/step\n"
          ]
        },
        {
          "output_type": "stream",
          "name": "stderr",
          "text": [
            "pyswarms.single.global_best:  70%|███████   |35/50, best_cost=-0.829/usr/local/lib/python3.10/dist-packages/keras/src/layers/core/dense.py:87: UserWarning: Do not pass an `input_shape`/`input_dim` argument to a layer. When using Sequential models, prefer using an `Input(shape)` object as the first layer in the model instead.\n",
            "  super().__init__(activity_regularizer=activity_regularizer, **kwargs)\n"
          ]
        },
        {
          "output_type": "stream",
          "name": "stdout",
          "text": [
            "\u001b[1m64/64\u001b[0m \u001b[32m━━━━━━━━━━━━━━━━━━━━\u001b[0m\u001b[37m\u001b[0m \u001b[1m0s\u001b[0m 2ms/step\n"
          ]
        },
        {
          "output_type": "stream",
          "name": "stderr",
          "text": [
            "pyswarms.single.global_best:  72%|███████▏  |36/50, best_cost=-0.829/usr/local/lib/python3.10/dist-packages/keras/src/layers/core/dense.py:87: UserWarning: Do not pass an `input_shape`/`input_dim` argument to a layer. When using Sequential models, prefer using an `Input(shape)` object as the first layer in the model instead.\n",
            "  super().__init__(activity_regularizer=activity_regularizer, **kwargs)\n"
          ]
        },
        {
          "output_type": "stream",
          "name": "stdout",
          "text": [
            "\u001b[1m64/64\u001b[0m \u001b[32m━━━━━━━━━━━━━━━━━━━━\u001b[0m\u001b[37m\u001b[0m \u001b[1m0s\u001b[0m 2ms/step\n"
          ]
        },
        {
          "output_type": "stream",
          "name": "stderr",
          "text": [
            "pyswarms.single.global_best:  74%|███████▍  |37/50, best_cost=-0.829/usr/local/lib/python3.10/dist-packages/keras/src/layers/core/dense.py:87: UserWarning: Do not pass an `input_shape`/`input_dim` argument to a layer. When using Sequential models, prefer using an `Input(shape)` object as the first layer in the model instead.\n",
            "  super().__init__(activity_regularizer=activity_regularizer, **kwargs)\n"
          ]
        },
        {
          "output_type": "stream",
          "name": "stdout",
          "text": [
            "\u001b[1m64/64\u001b[0m \u001b[32m━━━━━━━━━━━━━━━━━━━━\u001b[0m\u001b[37m\u001b[0m \u001b[1m0s\u001b[0m 2ms/step\n"
          ]
        },
        {
          "output_type": "stream",
          "name": "stderr",
          "text": [
            "pyswarms.single.global_best:  76%|███████▌  |38/50, best_cost=-0.829/usr/local/lib/python3.10/dist-packages/keras/src/layers/core/dense.py:87: UserWarning: Do not pass an `input_shape`/`input_dim` argument to a layer. When using Sequential models, prefer using an `Input(shape)` object as the first layer in the model instead.\n",
            "  super().__init__(activity_regularizer=activity_regularizer, **kwargs)\n"
          ]
        },
        {
          "output_type": "stream",
          "name": "stdout",
          "text": [
            "\u001b[1m64/64\u001b[0m \u001b[32m━━━━━━━━━━━━━━━━━━━━\u001b[0m\u001b[37m\u001b[0m \u001b[1m0s\u001b[0m 2ms/step\n"
          ]
        },
        {
          "output_type": "stream",
          "name": "stderr",
          "text": [
            "pyswarms.single.global_best:  78%|███████▊  |39/50, best_cost=-0.829/usr/local/lib/python3.10/dist-packages/keras/src/layers/core/dense.py:87: UserWarning: Do not pass an `input_shape`/`input_dim` argument to a layer. When using Sequential models, prefer using an `Input(shape)` object as the first layer in the model instead.\n",
            "  super().__init__(activity_regularizer=activity_regularizer, **kwargs)\n"
          ]
        },
        {
          "output_type": "stream",
          "name": "stdout",
          "text": [
            "\u001b[1m64/64\u001b[0m \u001b[32m━━━━━━━━━━━━━━━━━━━━\u001b[0m\u001b[37m\u001b[0m \u001b[1m0s\u001b[0m 4ms/step\n"
          ]
        },
        {
          "output_type": "stream",
          "name": "stderr",
          "text": [
            "pyswarms.single.global_best:  80%|████████  |40/50, best_cost=-0.829/usr/local/lib/python3.10/dist-packages/keras/src/layers/core/dense.py:87: UserWarning: Do not pass an `input_shape`/`input_dim` argument to a layer. When using Sequential models, prefer using an `Input(shape)` object as the first layer in the model instead.\n",
            "  super().__init__(activity_regularizer=activity_regularizer, **kwargs)\n"
          ]
        },
        {
          "output_type": "stream",
          "name": "stdout",
          "text": [
            "\u001b[1m64/64\u001b[0m \u001b[32m━━━━━━━━━━━━━━━━━━━━\u001b[0m\u001b[37m\u001b[0m \u001b[1m0s\u001b[0m 2ms/step\n"
          ]
        },
        {
          "output_type": "stream",
          "name": "stderr",
          "text": [
            "pyswarms.single.global_best:  82%|████████▏ |41/50, best_cost=-0.829/usr/local/lib/python3.10/dist-packages/keras/src/layers/core/dense.py:87: UserWarning: Do not pass an `input_shape`/`input_dim` argument to a layer. When using Sequential models, prefer using an `Input(shape)` object as the first layer in the model instead.\n",
            "  super().__init__(activity_regularizer=activity_regularizer, **kwargs)\n"
          ]
        },
        {
          "output_type": "stream",
          "name": "stdout",
          "text": [
            "\u001b[1m64/64\u001b[0m \u001b[32m━━━━━━━━━━━━━━━━━━━━\u001b[0m\u001b[37m\u001b[0m \u001b[1m0s\u001b[0m 2ms/step\n"
          ]
        },
        {
          "output_type": "stream",
          "name": "stderr",
          "text": [
            "pyswarms.single.global_best:  84%|████████▍ |42/50, best_cost=-0.829/usr/local/lib/python3.10/dist-packages/keras/src/layers/core/dense.py:87: UserWarning: Do not pass an `input_shape`/`input_dim` argument to a layer. When using Sequential models, prefer using an `Input(shape)` object as the first layer in the model instead.\n",
            "  super().__init__(activity_regularizer=activity_regularizer, **kwargs)\n"
          ]
        },
        {
          "output_type": "stream",
          "name": "stdout",
          "text": [
            "\u001b[1m64/64\u001b[0m \u001b[32m━━━━━━━━━━━━━━━━━━━━\u001b[0m\u001b[37m\u001b[0m \u001b[1m0s\u001b[0m 2ms/step\n"
          ]
        },
        {
          "output_type": "stream",
          "name": "stderr",
          "text": [
            "pyswarms.single.global_best:  86%|████████▌ |43/50, best_cost=-0.829/usr/local/lib/python3.10/dist-packages/keras/src/layers/core/dense.py:87: UserWarning: Do not pass an `input_shape`/`input_dim` argument to a layer. When using Sequential models, prefer using an `Input(shape)` object as the first layer in the model instead.\n",
            "  super().__init__(activity_regularizer=activity_regularizer, **kwargs)\n"
          ]
        },
        {
          "output_type": "stream",
          "name": "stdout",
          "text": [
            "\u001b[1m64/64\u001b[0m \u001b[32m━━━━━━━━━━━━━━━━━━━━\u001b[0m\u001b[37m\u001b[0m \u001b[1m0s\u001b[0m 3ms/step\n"
          ]
        },
        {
          "output_type": "stream",
          "name": "stderr",
          "text": [
            "pyswarms.single.global_best:  88%|████████▊ |44/50, best_cost=-0.829/usr/local/lib/python3.10/dist-packages/keras/src/layers/core/dense.py:87: UserWarning: Do not pass an `input_shape`/`input_dim` argument to a layer. When using Sequential models, prefer using an `Input(shape)` object as the first layer in the model instead.\n",
            "  super().__init__(activity_regularizer=activity_regularizer, **kwargs)\n"
          ]
        },
        {
          "output_type": "stream",
          "name": "stdout",
          "text": [
            "\u001b[1m64/64\u001b[0m \u001b[32m━━━━━━━━━━━━━━━━━━━━\u001b[0m\u001b[37m\u001b[0m \u001b[1m0s\u001b[0m 4ms/step\n"
          ]
        },
        {
          "output_type": "stream",
          "name": "stderr",
          "text": [
            "pyswarms.single.global_best:  90%|█████████ |45/50, best_cost=-0.829/usr/local/lib/python3.10/dist-packages/keras/src/layers/core/dense.py:87: UserWarning: Do not pass an `input_shape`/`input_dim` argument to a layer. When using Sequential models, prefer using an `Input(shape)` object as the first layer in the model instead.\n",
            "  super().__init__(activity_regularizer=activity_regularizer, **kwargs)\n"
          ]
        },
        {
          "output_type": "stream",
          "name": "stdout",
          "text": [
            "\u001b[1m64/64\u001b[0m \u001b[32m━━━━━━━━━━━━━━━━━━━━\u001b[0m\u001b[37m\u001b[0m \u001b[1m0s\u001b[0m 2ms/step\n"
          ]
        },
        {
          "output_type": "stream",
          "name": "stderr",
          "text": [
            "pyswarms.single.global_best:  92%|█████████▏|46/50, best_cost=-0.829/usr/local/lib/python3.10/dist-packages/keras/src/layers/core/dense.py:87: UserWarning: Do not pass an `input_shape`/`input_dim` argument to a layer. When using Sequential models, prefer using an `Input(shape)` object as the first layer in the model instead.\n",
            "  super().__init__(activity_regularizer=activity_regularizer, **kwargs)\n"
          ]
        },
        {
          "output_type": "stream",
          "name": "stdout",
          "text": [
            "\u001b[1m64/64\u001b[0m \u001b[32m━━━━━━━━━━━━━━━━━━━━\u001b[0m\u001b[37m\u001b[0m \u001b[1m0s\u001b[0m 3ms/step\n"
          ]
        },
        {
          "output_type": "stream",
          "name": "stderr",
          "text": [
            "pyswarms.single.global_best:  94%|█████████▍|47/50, best_cost=-0.829/usr/local/lib/python3.10/dist-packages/keras/src/layers/core/dense.py:87: UserWarning: Do not pass an `input_shape`/`input_dim` argument to a layer. When using Sequential models, prefer using an `Input(shape)` object as the first layer in the model instead.\n",
            "  super().__init__(activity_regularizer=activity_regularizer, **kwargs)\n"
          ]
        },
        {
          "output_type": "stream",
          "name": "stdout",
          "text": [
            "\u001b[1m64/64\u001b[0m \u001b[32m━━━━━━━━━━━━━━━━━━━━\u001b[0m\u001b[37m\u001b[0m \u001b[1m0s\u001b[0m 4ms/step\n"
          ]
        },
        {
          "output_type": "stream",
          "name": "stderr",
          "text": [
            "pyswarms.single.global_best:  96%|█████████▌|48/50, best_cost=-0.829/usr/local/lib/python3.10/dist-packages/keras/src/layers/core/dense.py:87: UserWarning: Do not pass an `input_shape`/`input_dim` argument to a layer. When using Sequential models, prefer using an `Input(shape)` object as the first layer in the model instead.\n",
            "  super().__init__(activity_regularizer=activity_regularizer, **kwargs)\n"
          ]
        },
        {
          "output_type": "stream",
          "name": "stdout",
          "text": [
            "\u001b[1m64/64\u001b[0m \u001b[32m━━━━━━━━━━━━━━━━━━━━\u001b[0m\u001b[37m\u001b[0m \u001b[1m0s\u001b[0m 2ms/step\n"
          ]
        },
        {
          "output_type": "stream",
          "name": "stderr",
          "text": [
            "pyswarms.single.global_best:  98%|█████████▊|49/50, best_cost=-0.829/usr/local/lib/python3.10/dist-packages/keras/src/layers/core/dense.py:87: UserWarning: Do not pass an `input_shape`/`input_dim` argument to a layer. When using Sequential models, prefer using an `Input(shape)` object as the first layer in the model instead.\n",
            "  super().__init__(activity_regularizer=activity_regularizer, **kwargs)\n"
          ]
        },
        {
          "output_type": "stream",
          "name": "stdout",
          "text": [
            "\u001b[1m64/64\u001b[0m \u001b[32m━━━━━━━━━━━━━━━━━━━━\u001b[0m\u001b[37m\u001b[0m \u001b[1m0s\u001b[0m 2ms/step\n"
          ]
        },
        {
          "output_type": "stream",
          "name": "stderr",
          "text": [
            "pyswarms.single.global_best: 100%|██████████|50/50, best_cost=-0.829\n",
            "2025-01-03 19:30:16,458 - pyswarms.single.global_best - INFO - Optimization finished | best cost: -0.8293398533007335, best pos: [1.82264144e+00 5.24745979e+01 6.54729044e-02 1.26969023e+00\n",
            " 3.80808306e-02 9.07718360e-01 2.49229065e+02 5.35868503e-01]\n"
          ]
        },
        {
          "output_type": "stream",
          "name": "stdout",
          "text": [
            "Best solution (50 iteration):\n",
            "Layer numbers: 1\n",
            "Neuron numbers: 52\n",
            "Learning rate: 0.06547290443913217\n",
            "Activation function: sigmoid\n",
            "Dropout rate: 0.03808083060103995\n",
            "Optimizer type: adam\n",
            "Batch size: 249\n",
            "Kernel initializer: he_uniform\n",
            "Accuracy: 0.8293398533007335\n"
          ]
        }
      ]
    }
  ]
}